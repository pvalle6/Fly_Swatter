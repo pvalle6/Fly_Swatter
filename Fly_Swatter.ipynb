{
  "nbformat": 4,
  "nbformat_minor": 0,
  "metadata": {
    "colab": {
      "provenance": []
    },
    "kernelspec": {
      "name": "python3",
      "display_name": "Python 3"
    },
    "language_info": {
      "name": "python"
    }
  },
  "cells": [
    {
      "cell_type": "code",
      "execution_count": null,
      "metadata": {
        "id": "XgEHQfEpX7Rz"
      },
      "outputs": [],
      "source": [
        "# want to make a hypothetical backprograming for a aerial targeting program"
      ]
    },
    {
      "cell_type": "code",
      "source": [
        "# need to make way better comments, probably lint"
      ],
      "metadata": {
        "id": "RZcxh4JPVtoF"
      },
      "execution_count": null,
      "outputs": []
    },
    {
      "cell_type": "markdown",
      "source": [
        "https://apps.dtic.mil/sti/pdfs/ADA522197.pdf"
      ],
      "metadata": {
        "id": "zX-6y3rbp63E"
      }
    },
    {
      "cell_type": "code",
      "source": [
        "import numpy as np\n",
        "import scipy\n",
        "import time\n",
        "import sched\n",
        "import random"
      ],
      "metadata": {
        "id": "3aNF5OBYYkhf"
      },
      "execution_count": 20,
      "outputs": []
    },
    {
      "cell_type": "code",
      "source": [
        "# constants for use in calculations\n",
        "\n",
        "# rotation speed in search\n",
        "\n",
        "# speed of projectile\n",
        "missile_speed = 3.5 # m / s\n",
        "# assume dragless, gravity negigible in short realm"
      ],
      "metadata": {
        "id": "Agwx-k_iRdAT"
      },
      "execution_count": 2,
      "outputs": []
    },
    {
      "cell_type": "code",
      "source": [
        "def target_check(image):\n",
        "  # test function to return true or false if a image\n",
        "  # is recognized\n",
        "\n",
        "  # to simulate, roll die with 1/10 probability\n",
        "  if random.randint(1,10) > 9:\n",
        "    return True\n",
        "  else:\n",
        "    return False"
      ],
      "metadata": {
        "id": "tmFzBCXnlXpm"
      },
      "execution_count": 3,
      "outputs": []
    },
    {
      "cell_type": "code",
      "source": [
        "def rotate(phi_omega, theta_omega):\n",
        "  # This function should call Ras Pi functions to rotate the camera or Weapon\n",
        "\n",
        "  # insert raspi function for rotation in phi and theta directions\n",
        "  return None"
      ],
      "metadata": {
        "id": "v2QvKjT7vIAM"
      },
      "execution_count": 4,
      "outputs": []
    },
    {
      "cell_type": "code",
      "source": [
        "def capture_image():\n",
        "  return image"
      ],
      "metadata": {
        "id": "kz4S-UW9mKni"
      },
      "execution_count": 5,
      "outputs": []
    },
    {
      "cell_type": "code",
      "source": [
        "# This is the search mode\n",
        "\n",
        "# This creates a 1 second delay for image search\n",
        "# Assumes Camera and Weapon Angles are Same Until Mode Breaks\n",
        "\n",
        "scheduler = sched.scheduler(time.time, time.sleep)\n",
        "image = 'j'\n",
        "search = True\n",
        "target_spotted = False\n",
        "\n",
        "target_mode = False\n",
        "while search:\n",
        "\n",
        "  scheduler.enter(1,1, print, (\"SCANNING\"))\n",
        "  scheduler.run()\n",
        "\n",
        "  if target_check(\"image\"):\n",
        "    search = False\n",
        "    print(\"TARGET SPOTTED\")\n",
        "    target_mode = True\n",
        "  else:\n",
        "    #rotate(phi, theta)"
      ],
      "metadata": {
        "id": "JOeWTX8nYMBw"
      },
      "execution_count": null,
      "outputs": []
    },
    {
      "cell_type": "code",
      "source": [
        "def search_mode():\n",
        "  scheduler = sched.scheduler(time.time, time.sleep)\n",
        "  image = 'j'\n",
        "  search = True\n",
        "  target_spotted = False\n",
        "\n",
        "  target_mode = False\n",
        "  while search:\n",
        "    scheduler.enter(1,1, print, (\"SCANNING\"))\n",
        "    scheduler.run()\n",
        "\n",
        "    if target_check(\"image\"):\n",
        "      search = False\n",
        "      print(\"TARGET SPOTTED\")\n",
        "      target_mode = True\n",
        "    else:\n",
        "      #rotate(phi, theta)"
      ],
      "metadata": {
        "id": "Aemfk-2cBObO"
      },
      "execution_count": null,
      "outputs": []
    },
    {
      "cell_type": "code",
      "source": [
        "# to calculate the ballistics of a target, two samples is the minimum required for a triangle to be created\n",
        "\n",
        "# simple example assumes a sonar image (probably want to generalize this to radar or image recognition)\n",
        "\n",
        "class target_loc():\n",
        "  def __init__(self, phi, theta, r, time_spot):\n",
        "    self.phi = phi\n",
        "    self.theta = theta\n",
        "    self.r = r\n",
        "    self.time_spot = time_spot\n",
        "  def tell(self):\n",
        "    return (f\"Phi: {self.phi}  \" + f\"Theta: {self.theta} \" + f\"Rho: {self.r}\")"
      ],
      "metadata": {
        "id": "uaIYrj4SxSDJ"
      },
      "execution_count": 152,
      "outputs": []
    },
    {
      "cell_type": "code",
      "source": [
        "def target_radar_sight(return_data):\n",
        "  # need a function that captures a location of the target\n",
        "  time = time.time()\n",
        "  return phi, theta, r, time"
      ],
      "metadata": {
        "id": "uAlWOxLo2AdM"
      },
      "execution_count": 9,
      "outputs": []
    },
    {
      "cell_type": "code",
      "source": [
        "# need to create a system for generating realistic trajectories of mock targets\n",
        "\n",
        "#phi_one, theta_one, r_one, time_one = target_radar_sight(target_data_one)\n",
        "\n",
        "#phi_two, theta_two, r_two, time_two = target_radar_sight(target_data_two)\n",
        "\n",
        "first_loc = target_loc(.3, .3, 2, 0)\n",
        "\n",
        "second_loc = target_loc(.301, 0.301, 2, 0.2)"
      ],
      "metadata": {
        "id": "Ch1DZ30M0FE1"
      },
      "execution_count": 120,
      "outputs": []
    },
    {
      "cell_type": "code",
      "source": [
        "def calculate_trajectory_target(first_data, second_data):\n",
        "  # probably want to convert to cartesian coordinates immedatiately unless there is a spherical coordinate formula\n",
        "\n",
        "  x_one = (first_data.r) * (np.cos(first_data.theta)) * (np.sin(first_data.phi))\n",
        "  y_one = (first_data.r) * (np.sin(first_data.theta)) * (np.sin(first_data.phi))\n",
        "  z_one = (first_data.r) * (np.cos(first_data.phi))\n",
        "\n",
        "  x_two = (second_data.r) * (np.cos(second_data.theta)) * (np.sin(second_data.phi))\n",
        "  y_two = (second_data.r) * (np.sin(second_data.theta)) * (np.sin(second_data.phi))\n",
        "  z_two = (second_data.r) * (np.cos(second_data.phi))\n",
        "\n",
        "  xyz_one = [x_one,y_one,y_two]\n",
        "  xyz_two  = [x_two, y_two, z_two]\n",
        "\n",
        "  deltaT = second_data.time_spot - first_data.time_spot\n",
        "\n",
        "  deltaX = (x_two - x_one) / deltaT\n",
        "  deltaY = (y_two - y_one) / deltaT\n",
        "  deltaZ = (z_two - z_one) / deltaT\n",
        "\n",
        "  deltaXYZ = [deltaX, deltaY, deltaZ]\n",
        "\n",
        "  return [deltaT, deltaXYZ, xyz_one, xyz_two]\n",
        "\n",
        "def recalculate_spherical(deltaX, deltaY, deltaZ, deltaT, x, y, z):\n",
        "\n",
        "  dtheta_dt  = (-x / ((x ** 2) + (y ** 2)) ) * (deltaX) + (x / ((x ** 2) + (y ** 2)) ) * (deltaY)\n",
        "  dphi_dt = ((z * x_two) / (sqrt(x ** 2 + y **2) * (x ** 2 + z **2 + y **2))) * (deltaX)  + ((z * x) / (sqrt(x ** 2 + y **2) * (x ** 2 + z **2 + y **2))) * (deltaY) - (sqrt(y ** 2 + x ** 2) / (z ** 2 + x **2 + y **2 )) * deltaZ\n",
        "  dp_dt = (x / sqrt (x ** 2 + y ** 2 + z ** 2)) * deltaX + (y / sqrt(x ** 2 + y ** 2  + z **2)) * deltaY + (z / sqrt(x ** 2 + y ** 2  + z **2)) * deltaZ\n",
        "  return [dtheta_dt, dphi_dt, dp_dt]"
      ],
      "metadata": {
        "id": "vEGkS4t42x44"
      },
      "execution_count": 13,
      "outputs": []
    },
    {
      "cell_type": "code",
      "source": [
        "def calculate_ballistics_missile(speed, phi, theta):\n",
        "  # probably want to convert to cartesian coordinates immedatiately unless there is a spherical coordinate formula\n",
        "\n",
        "  deltaX = (speed) * (np.cos(theta)) * (np.sin(phi))\n",
        "  deltaY = (speed) * (np.sin(theta)) * (np.sin(phi))\n",
        "  deltaZ = (speed) * (np.cos(phi))\n",
        "\n",
        "  deltaXYZ = [deltaX, deltaY, deltaZ]\n",
        "\n",
        "  return deltaXYZ"
      ],
      "metadata": {
        "id": "M9bjnoD_VCcG"
      },
      "execution_count": 14,
      "outputs": []
    },
    {
      "cell_type": "code",
      "source": [
        "def find_firing_solution(x, deltaXYZ, xyz_two, missile_speed):\n",
        "  # x0 is time, x1 is theta, x2 is phi\n",
        "  m_x_speed, m_y_speed, m_z_speed = calculate_ballistics_missile(missile_speed, x[2], x[1])\n",
        "  t_x_speed, t_y_speed, t_z_speed = deltaXYZ\n",
        "  t_x_pos, t_y_pos, t_z_pos = xyz_two\n",
        "  return [0 + m_x_speed * x[0] - t_x_pos - (t_x_speed) * x[0], 0 + m_y_speed * x[0] - t_y_pos - (t_y_speed) * x[0], 0 + m_z_speed * x[0] - t_z_pos - (t_z_speed) * x[0]]"
      ],
      "metadata": {
        "id": "GROisQ9AvuN9"
      },
      "execution_count": 167,
      "outputs": []
    },
    {
      "cell_type": "code",
      "source": [
        "# code to generate random vector of target\n",
        "# self, phi, theta, r, time_spot)\n",
        "def generate_random_vector(max_distance):\n",
        "  a = random.randrange(1,10, 1) * (np.pi / 2) / 10\n",
        "  b = random.randrange(-10,10, 1) * (np.pi / 2) / 10\n",
        "\n",
        "  data_one = target_loc(a, b, max_distance, 0)\n",
        "\n",
        "  data_two = target_loc(a + 0.01, b + 0.01, max_distance + random.random(), 0.1)\n",
        "\n",
        "  return [data_one, data_two]"
      ],
      "metadata": {
        "id": "WIl6zG4LJIx2"
      },
      "execution_count": 314,
      "outputs": []
    },
    {
      "cell_type": "code",
      "source": [
        "first_loc, second_loc = generate_random_vector(2)"
      ],
      "metadata": {
        "id": "udRIYUUSZR5r"
      },
      "execution_count": 285,
      "outputs": []
    },
    {
      "cell_type": "code",
      "source": [
        "# probably going to have to create a differential equation solver for this one\n",
        "deltaT, deltaXYZ, xyz_one, xyz_two = calculate_trajectory_target(first_loc, second_loc)\n",
        "\n",
        "guess_solution = xyz_two\n",
        "solution = xyz_two # need to replace this time factor with a better estimation\n",
        "\n",
        "solution = scipy.optimize.fsolve(find_firing_solution, guess_solution, args=(deltaXYZ, xyz_two, missile_speed))"
      ],
      "metadata": {
        "id": "ZiorYinYUxDP"
      },
      "execution_count": 287,
      "outputs": []
    },
    {
      "cell_type": "code",
      "source": [
        "if solution[0] <= .05:\n",
        "  print(\"No SOLUTION FOUND\")\n",
        "else:\n",
        "  print(\"SOLUTION CALCULATED:\")\n",
        "  print(f'TIME TO TARGET: {solution[0]}')\n",
        "  print(f'Phi: {solution[1]}')\n",
        "  print(f'Theta: {solution[2]}')"
      ],
      "metadata": {
        "id": "iCEhG4DeZhpN"
      },
      "execution_count": null,
      "outputs": []
    },
    {
      "cell_type": "code",
      "source": [
        "# generate 10 solutions\n",
        "\n",
        "for i in range(15):\n",
        "\n",
        "  first_loc, second_loc = generate_random_vector(2)\n",
        "\n",
        "  print(\"Target Azimuth : \" + first_loc.tell())\n",
        "\n",
        "  # probably going to have to create a differential equation solver for this one\n",
        "  deltaT, deltaXYZ, xyz_one, xyz_two = calculate_trajectory_target(first_loc, second_loc)\n",
        "\n",
        "  guess_solution = xyz_two\n",
        "  solution = xyz_two # need to replace this time factor with a better estimation\n",
        "\n",
        "  solution = scipy.optimize.fsolve(find_firing_solution, guess_solution, args=(deltaXYZ, xyz_two, missile_speed))\n",
        "  solution\n",
        "  if solution[0] <= .05:\n",
        "    print(\"No SOLUTION FOUND\")\n",
        "    print(\"\")\n",
        "  else:\n",
        "    print(\"SOLUTION CALCULATED:\")\n",
        "    print(f'TIME TO TARGET: {solution[0]}')\n",
        "    print(f'Phi: {solution[1]}')\n",
        "    print(f'Theta: {solution[2]}')\n",
        "    print(\"\")"
      ],
      "metadata": {
        "id": "Rd93iwj4npbe"
      },
      "execution_count": null,
      "outputs": []
    }
  ]
}
