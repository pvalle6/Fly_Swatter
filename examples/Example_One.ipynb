{
  "nbformat": 4,
  "nbformat_minor": 0,
  "metadata": {
    "colab": {
      "provenance": []
    },
    "kernelspec": {
      "name": "python3",
      "display_name": "Python 3"
    },
    "language_info": {
      "name": "python"
    }
  },
  "cells": [
    {
      "cell_type": "code",
      "execution_count": null,
      "metadata": {
        "id": "Ss8b2jw05u_5"
      },
      "outputs": [],
      "source": [
        "!git clone https://github.com/pvalle6/Fly_Swatter"
      ]
    },
    {
      "cell_type": "code",
      "source": [
        "from Fly_Swatter.Fly_Swatter import mode_control"
      ],
      "metadata": {
        "id": "cyPBB_d7Fycx"
      },
      "execution_count": 2,
      "outputs": []
    },
    {
      "cell_type": "code",
      "source": [
        "mode_control.system_run()"
      ],
      "metadata": {
        "id": "3-jiFEYYF1n1"
      },
      "execution_count": null,
      "outputs": []
    }
  ]
}
