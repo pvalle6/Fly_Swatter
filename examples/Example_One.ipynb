{
  "nbformat": 4,
  "nbformat_minor": 0,
  "metadata": {
    "colab": {
      "provenance": []
    },
    "kernelspec": {
      "name": "python3",
      "display_name": "Python 3"
    },
    "language_info": {
      "name": "python"
    }
  },
  "cells": [
    {
      "cell_type": "code",
      "execution_count": null,
      "metadata": {
        "id": "FxayiE4Vq2mI"
      },
      "outputs": [],
      "source": [
        "!git clone https://github.com/pvalle6/Fly_Swatter"
      ]
    },
    {
      "cell_type": "code",
      "source": [
        "!ls"
      ],
      "metadata": {
        "id": "hPwHFt6RrU1Q"
      },
      "execution_count": null,
      "outputs": []
    },
    {
      "cell_type": "code",
      "source": [
        "import numpy as np\n",
        "import scipy\n",
        "import time\n",
        "import sched\n",
        "import random"
      ],
      "metadata": {
        "id": "4dC39IAb7qyV"
      },
      "execution_count": 8,
      "outputs": []
    },
    {
      "cell_type": "code",
      "source": [
        "missile_speed = 2"
      ],
      "metadata": {
        "id": "M14WVevC7yqR"
      },
      "execution_count": 11,
      "outputs": []
    },
    {
      "cell_type": "code",
      "source": [
        "from Fly_Swatter.Fly_Swatter import radar\n",
        "#from Fly_Swatter.Fly_Swatter import search\n",
        "from Fly_Swatter.Fly_Swatter import target\n",
        "# probably going to have to create a differential equation solver for this one\n",
        "\n",
        "first_loc, second_loc = radar.generate_random_vector(2)\n",
        "deltaT, deltaXYZ, xyz_one, xyz_two = target.calculate_trajectory_target(first_loc, second_loc)\n",
        "\n",
        "guess_solution = xyz_two\n",
        "solution = xyz_two # need to replace this time factor with a better estimation\n",
        "\n",
        "solution = scipy.optimize.fsolve(target.find_firing_solution, guess_solution, args=(deltaXYZ, xyz_two, missile_speed))"
      ],
      "metadata": {
        "id": "PCnIYHucr19a"
      },
      "execution_count": 12,
      "outputs": []
    },
    {
      "cell_type": "code",
      "source": [
        "solution"
      ],
      "metadata": {
        "colab": {
          "base_uri": "https://localhost:8080/"
        },
        "id": "nFyyJmXuIGDa",
        "outputId": "7cb9f0f1-efbc-487a-cdb8-6122afacf0cb"
      },
      "execution_count": 14,
      "outputs": [
        {
          "output_type": "execute_result",
          "data": {
            "text/plain": [
              "array([1.06906787, 0.10530941, 1.21182334])"
            ]
          },
          "metadata": {},
          "execution_count": 14
        }
      ]
    }
  ]
}
